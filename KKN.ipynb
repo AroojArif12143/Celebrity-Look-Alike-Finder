{
  "nbformat": 4,
  "nbformat_minor": 0,
  "metadata": {
    "colab": {
      "name": "KKN.ipynb",
      "provenance": [],
      "collapsed_sections": []
    },
    "kernelspec": {
      "name": "python3",
      "display_name": "Python 3"
    }
  },
  "cells": [
    {
      "cell_type": "markdown",
      "metadata": {
        "id": "UWy7nO746bg6"
      },
      "source": [
        "\n",
        "Before running this block, make sure to upload \"data.mat\" in the google drive."
      ]
    },
    {
      "cell_type": "markdown",
      "metadata": {
        "id": "MxhxYszfnusX"
      },
      "source": [
        "Assignment No.1:k-nearest neighbors"
      ]
    },
    {
      "cell_type": "code",
      "metadata": {
        "id": "l2aZxnbdnn-N",
        "colab": {
          "base_uri": "https://localhost:8080/"
        },
        "outputId": "f3b1f992-4ca5-473d-9f6f-7f26966b4901"
      },
      "source": [
        "#Enter your path of dataset from google drive  \n",
        "import scipy.io as sio\n",
        "GOOGLE_COLAB = True\n",
        "path = \"\"\n",
        "if GOOGLE_COLAB:\n",
        "    from google.colab import drive, files\n",
        "    drive.mount('/content/drive/')\n",
        "    path = \"/content/drive/My Drive/\"\n",
        "\n",
        "dataset = path + \"data.mat\" \n",
        "\n",
        "#Enter path of your test image\n",
        "test_image=path+\"test.jpg\"\n",
        "mat_contents = sio.loadmat(dataset)\n",
        "mat_contents\n",
        "images = mat_contents['images']\n",
        "label = mat_contents['C']\n",
        "images.shape"
      ],
      "execution_count": 3,
      "outputs": [
        {
          "output_type": "stream",
          "text": [
            "Mounted at /content/drive/\n"
          ],
          "name": "stdout"
        },
        {
          "output_type": "execute_result",
          "data": {
            "text/plain": [
              "(50, 3072)"
            ]
          },
          "metadata": {
            "tags": []
          },
          "execution_count": 3
        }
      ]
    },
    {
      "cell_type": "markdown",
      "metadata": {
        "id": "vQnZDcvBnthy"
      },
      "source": [
        "If you can see the shape of images in 'data.mat' then your data has been read. "
      ]
    },
    {
      "cell_type": "code",
      "metadata": {
        "id": "uipC318_1KpT"
      },
      "source": [
        "import numpy as np \n",
        "images= np.transpose(images)\n",
        "images.shape\n",
        "im = np.reshape(images, [ 32, 32, 3, -1], order=\"F\")"
      ],
      "execution_count": 10,
      "outputs": []
    },
    {
      "cell_type": "code",
      "metadata": {
        "id": "-SqDxP8O1VAD",
        "colab": {
          "base_uri": "https://localhost:8080/",
          "height": 300
        },
        "outputId": "8a105c2e-85ec-400f-a6b1-2334281b9c2b"
      },
      "source": [
        "from matplotlib import pyplot as plt\n",
        "#import cv2\n",
        "\n",
        "plt.imshow(im[:,:,:,35])\n",
        "print(im[:,:,:,0].shape)\n",
        "a= im[:,:,:,35]\n",
        "plt.imshow(a)\n",
        "a.shape"
      ],
      "execution_count": 12,
      "outputs": [
        {
          "output_type": "stream",
          "text": [
            "(32, 32, 3)\n"
          ],
          "name": "stdout"
        },
        {
          "output_type": "execute_result",
          "data": {
            "text/plain": [
              "(32, 32, 3)"
            ]
          },
          "metadata": {
            "tags": []
          },
          "execution_count": 12
        },
        {
          "output_type": "display_data",
          "data": {
            "image/png": "[encoded data removed]",
            "text/plain": [
              "<Figure size 432x288 with 1 Axes>"
            ]
          },
          "metadata": {
            "tags": [],
            "needs_background": "light"
          }
        }
      ]
    },
    {
      "cell_type": "markdown",
      "metadata": {
        "id": "R8N5huHD4LrU"
      },
      "source": [
        "You Need to write your code in this block."
      ]
    },
    {
      "cell_type": "code",
      "metadata": {
        "id": "XxSs-vDd3KYt",
        "colab": {
          "base_uri": "https://localhost:8080/",
          "height": 436
        },
        "outputId": "cc9ec122-c62a-4ea0-ce09-d103c3bdc780"
      },
      "source": [
        "from scipy import misc\n",
        "import cv2\n",
        "from math import sqrt\n",
        "from numpy import ndarray\n",
        "\n",
        "\n",
        "for i in range(50):\n",
        "    G = im[:,:,:,i]\n",
        "    G = np.reshape(G,[-1], order=\"F\")\n",
        "\n",
        "    #Read your image here\n",
        "####### Your code here #######\n",
        "\n",
        "img = cv2.imread(test_image)\n",
        "img = cv2.cvtColor(img, cv2.COLOR_BGR2RGB)\n",
        "plt.imshow(img)\n",
        "\n",
        "\n",
        "############################\n",
        "   \n",
        "\n",
        "    #Resize your image\n",
        "####### Your code here #######\n",
        "resizedimg = cv2.resize(img, (32, 32))\n",
        "plt.imshow(resizedimg)\n",
        "resizedimg.shape\n",
        "##############################\n",
        "   \n",
        "   \n",
        "    #Reshape your image as we reshape the image of dataset\n",
        "####### Your code here #######\n",
        "#flattening image\n",
        "flatimg = np.reshape(resizedimg, [3072, 1], order=\"F\")\n",
        "flatimg.shape\n",
        "#############################\n",
        "    #Calculate Eucleadian distance between your image and dataset \n",
        "####### Your code here #######\n",
        "\n",
        "\n",
        "def euclidean_distance(row1, row2):\n",
        "  distance = 0.0\n",
        "  for i in range(len(row1)-1):\n",
        "    distance = distance + (row1[i] - row2[i])**2\n",
        "  return sqrt (distance)     \n",
        "\n",
        "# print(len(flatimg[0:3072, 0]))\n",
        "# print(len(flatimg[0, 0:3072]))\n",
        "\n",
        "# print(len(selectedimg[0:3072, 0]))\n",
        "# print(len(selectedimg[0, 0:3072]))\n",
        "\n",
        "#print(len(flatimg))\n",
        "\n",
        "\n",
        "# selectedimg = images[0:3072,0]\n",
        "# edistance = euclidean_distance(flatimg, selectedimg)\n",
        "# edistance\n",
        "\n",
        "edistance = np.zeros(50)\n",
        "for i in range(50):\n",
        "  selectedimg = images[0:3072,i]\n",
        "  edistance[i] = euclidean_distance(flatimg, selectedimg)\n",
        "  \n",
        "print(edistance) \n",
        "\n",
        "\n",
        "\n",
        "\n",
        "\n",
        "##############################"
      ],
      "execution_count": 131,
      "outputs": [
        {
          "output_type": "stream",
          "text": [
            "[575.2912306  571.28014144 546.34970486 559.25217925 474.5576888\n",
            " 588.22869702 576.58563978 579.08980305 562.24816585 577.67291783\n",
            " 571.64324539 584.39883641 560.30259682 573.62967148 533.15382396\n",
            " 580.59710643 575.74994572 576.77031824 561.44100313 559.90445614\n",
            " 574.25168698 568.85499031 602.03073011 567.89611726 585.5356522\n",
            " 582.41136665 562.06138455 564.10016841 571.26613763 590.6030816\n",
            " 567.7288085  594.77979118 580.17928264 555.20716854 557.51771272\n",
            " 571.71758763 577.58376016 563.59027671 571.05516371 582.80185312\n",
            " 568.91211975 571.89509528 573.87542202 578.82380739 563.91134055\n",
            " 589.48876156 571.93618525 567.88203    567.33940459 575.46763593]\n"
          ],
          "name": "stdout"
        },
        {
          "output_type": "display_data",
          "data": {
            "image/png": "[encoded data removed]",
            "text/plain": [
              "<Figure size 432x288 with 1 Axes>"
            ]
          },
          "metadata": {
            "tags": [],
            "needs_background": "light"
          }
        }
      ]
    },
    {
      "cell_type": "markdown",
      "metadata": {
        "id": "1lLC5Mwd46sh"
      },
      "source": [
        "In this Block you need to fill the code for 1-NN. \n"
      ]
    },
    {
      "cell_type": "code",
      "metadata": {
        "id": "P_jqiHkY4xWa",
        "colab": {
          "base_uri": "https://localhost:8080/",
          "height": 317
        },
        "outputId": "65910e58-3604-4519-d687-d46a7e7c1013"
      },
      "source": [
        "# Write code for 1 NN\n",
        "#Find min distance\n",
        "#Fine at which point min value exists\n",
        "\n",
        "####### Your code here #######\n",
        "leastedistance = min(edistance)\n",
        "print(leastedistance)\n",
        "\n",
        "ind = np.argmin(edistance)\n",
        "print(ind)\n",
        "plt.imshow(im[:,:,:,ind])\n",
        "\n",
        "##############################"
      ],
      "execution_count": 106,
      "outputs": [
        {
          "output_type": "stream",
          "text": [
            "474.55768880084537\n",
            "4\n"
          ],
          "name": "stdout"
        },
        {
          "output_type": "execute_result",
          "data": {
            "text/plain": [
              "<matplotlib.image.AxesImage at 0x7fb249f0c320>"
            ]
          },
          "metadata": {
            "tags": []
          },
          "execution_count": 106
        },
        {
          "output_type": "display_data",
          "data": {
            "image/png": "[encoded data removed]",
            "text/plain": [
              "<Figure size 432x288 with 1 Axes>"
            ]
          },
          "metadata": {
            "tags": [],
            "needs_background": "light"
          }
        }
      ]
    },
    {
      "cell_type": "markdown",
      "metadata": {
        "id": "sntq0ltr5Qop"
      },
      "source": [
        "\n",
        "Write code for 3 NN\n"
      ]
    },
    {
      "cell_type": "code",
      "metadata": {
        "id": "oD-sHiKm5bqx",
        "colab": {
          "base_uri": "https://localhost:8080/",
          "height": 883
        },
        "outputId": "25898809-f531-465e-b6a7-f1baafea9e6c"
      },
      "source": [
        "#3 NN\n",
        "#Write code for 3 NN\n",
        "#Find 3 min distances\n",
        "#Find their instances\n",
        "#hint: Use for Loop\n",
        "\n",
        "####### Your code here #######\n",
        "A, B, C = np.partition(edistance, 1)[0:3]\n",
        "print(A)\n",
        "print(B)\n",
        "print(C)\n",
        "\n",
        "indA = np.where(edistance == A)\n",
        "print(indA[0].item(0))\n",
        "plt.figure()\n",
        "plt.imshow(im[:,:,:,indA[0].item(0)])\n",
        "\n",
        "indB = np.where(edistance == B)\n",
        "print(indB[0].item(0))\n",
        "plt.figure()\n",
        "plt.imshow(im[:,:,:,indB[0].item(0)])\n",
        "\n",
        "indC = np.where(edistance == C)\n",
        "print(indC[0].item(0))\n",
        "plt.figure()\n",
        "plt.imshow(im[:,:,:,indC[0].item(0)])\n",
        "\n",
        "\n",
        "\n",
        "##############################"
      ],
      "execution_count": 129,
      "outputs": [
        {
          "output_type": "stream",
          "text": [
            "474.55768880084537\n",
            "533.1538239570265\n",
            "546.3497048594426\n",
            "4\n",
            "14\n",
            "2\n"
          ],
          "name": "stdout"
        },
        {
          "output_type": "execute_result",
          "data": {
            "text/plain": [
              "<matplotlib.image.AxesImage at 0x7fb249e3a4e0>"
            ]
          },
          "metadata": {
            "tags": []
          },
          "execution_count": 129
        },
        {
          "output_type": "display_data",
          "data": {
            "image/png": "[encoded data removed]",
            "text/plain": [
              "<Figure size 432x288 with 1 Axes>"
            ]
          },
          "metadata": {
            "tags": [],
            "needs_background": "light"
          }
        },
        {
          "output_type": "display_data",
          "data": {
            "image/png": "[encoded data removed]",
            "text/plain": [
              "<Figure size 432x288 with 1 Axes>"
            ]
          },
          "metadata": {
            "tags": [],
            "needs_background": "light"
          }
        },
        {
          "output_type": "display_data",
          "data": {
            "image/png": "[encoded data removed]",
            "text/plain": [
              "<Figure size 432x288 with 1 Axes>"
            ]
          },
          "metadata": {
            "tags": [],
            "needs_background": "light"
          }
        }
      ]
    },
    {
      "cell_type": "markdown",
      "metadata": {
        "id": "vQLhJVKc6Erk"
      },
      "source": [
        "Write code for 5 NN"
      ]
    },
    {
      "cell_type": "code",
      "metadata": {
        "id": "YR71bYdZ6QkL",
        "colab": {
          "base_uri": "https://localhost:8080/",
          "height": 1000
        },
        "outputId": "eb2f3067-b7b2-4a20-e822-8624e9fed6f3"
      },
      "source": [
        "#Write code for 5 NN\n",
        "#Find 5 min distances\n",
        "#Find their instances\n",
        "\n",
        "####### Your code here #######\n",
        "\n",
        "A, B, C, D, E = np.partition(edistance, 1)[0:5]\n",
        "print(A)\n",
        "print(B)\n",
        "print(C)\n",
        "print(D)\n",
        "print(E)\n",
        "\n",
        "indA = np.where(edistance == A)\n",
        "print(indA[0].item(0))\n",
        "plt.figure()\n",
        "plt.imshow(im[:,:,:,indA[0].item(0)])\n",
        "\n",
        "indB = np.where(edistance == B)\n",
        "print(indB[0].item(0))\n",
        "plt.figure()\n",
        "plt.imshow(im[:,:,:,indB[0].item(0)])\n",
        "\n",
        "indC = np.where(edistance == C)\n",
        "print(indC[0].item(0))\n",
        "plt.figure()\n",
        "plt.imshow(im[:,:,:,indC[0].item(0)])\n",
        "\n",
        "indD = np.where(edistance == D)\n",
        "print(indC[0].item(0))\n",
        "plt.figure()\n",
        "plt.imshow(im[:,:,:,indD[0].item(0)])\n",
        "\n",
        "indE = np.where(edistance == E)\n",
        "print(indC[0].item(0))\n",
        "plt.figure()\n",
        "plt.imshow(im[:,:,:,indE[0].item(0)])\n",
        "\n",
        "\n",
        "\n",
        "##############################"
      ],
      "execution_count": 130,
      "outputs": [
        {
          "output_type": "stream",
          "text": [
            "474.55768880084537\n",
            "533.1538239570265\n",
            "546.3497048594426\n",
            "559.2521792536887\n",
            "575.2912305954263\n",
            "4\n",
            "14\n",
            "2\n",
            "2\n",
            "2\n"
          ],
          "name": "stdout"
        },
        {
          "output_type": "execute_result",
          "data": {
            "text/plain": [
              "<matplotlib.image.AxesImage at 0x7fb249cda908>"
            ]
          },
          "metadata": {
            "tags": []
          },
          "execution_count": 130
        },
        {
          "output_type": "display_data",
          "data": {
            "image/png": "[encoded data removed]",
            "text/plain": [
              "<Figure size 432x288 with 1 Axes>"
            ]
          },
          "metadata": {
            "tags": [],
            "needs_background": "light"
          }
        },
        {
          "output_type": "display_data",
          "data": {
            "image/png": "[encoded data removed]",
            "text/plain": [
              "<Figure size 432x288 with 1 Axes>"
            ]
          },
          "metadata": {
            "tags": [],
            "needs_background": "light"
          }
        },
        {
          "output_type": "display_data",
          "data": {
            "image/png": "[encoded data removed]",
            "text/plain": [
              "<Figure size 432x288 with 1 Axes>"
            ]
          },
          "metadata": {
            "tags": [],
            "needs_background": "light"
          }
        },
        {
          "output_type": "display_data",
          "data": {
            "image/png": "[encoded data removed]",
            "text/plain": [
              "<Figure size 432x288 with 1 Axes>"
            ]
          },
          "metadata": {
            "tags": [],
            "needs_background": "light"
          }
        },
        {
          "output_type": "display_data",
          "data": {
            "image/png": "[encoded data removed]",
            "text/plain": [
              "<Figure size 432x288 with 1 Axes>"
            ]
          },
          "metadata": {
            "tags": [],
            "needs_background": "light"
          }
        }
      ]
    },
    {
      "cell_type": "markdown",
      "metadata": {
        "id": "wcECHSMjf7sc"
      },
      "source": [
        ""
      ]
    }
  ]
}